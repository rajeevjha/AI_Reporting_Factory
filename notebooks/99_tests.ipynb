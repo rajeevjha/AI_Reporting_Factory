{
 "cells": [
  {
   "cell_type": "markdown",
   "id": "91b7f899",
   "metadata": {},
   "source": [
    "# 99_tests\n",
    "Basic acceptance checks for pipeline outputs."
   ]
  },
  {
   "cell_type": "code",
   "execution_count": null,
   "id": "7ba2e80d",
   "metadata": {},
   "outputs": [],
   "source": [
    "expected = ['finance.kyc_ml.customer_enriched']\n",
    "for t in expected:\n",
    "    try:\n",
    "        spark.table(t).limit(1).collect()\n",
    "        print('OK:', t)\n",
    "    except Exception as e:\n",
    "        print('MISSING OR ERROR:', t, e)\n",
    "\n",
    "with open('/dbfs/FileStore/report_metadata/report_definitions.json','r') as f:\n",
    "    reports = json.load(f)\n",
    "for rpt in reports:\n",
    "    name = f\"finance.kyc_ml.{rpt['report_name']}\"\n",
    "    try:\n",
    "        spark.table(name).limit(1).collect()\n",
    "        print('Report OK:', name)\n",
    "    except Exception as e:\n",
    "        print('Report missing or error:', name, e)"
   ]
  }
 ],
 "metadata": {},
 "nbformat": 4,
 "nbformat_minor": 5
}
