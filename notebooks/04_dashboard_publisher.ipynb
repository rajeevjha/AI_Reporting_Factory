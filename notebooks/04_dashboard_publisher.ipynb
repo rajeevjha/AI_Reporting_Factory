{
 "cells": [
  {
   "cell_type": "markdown",
   "id": "28655fd4",
   "metadata": {},
   "source": [
    "# 04_dashboard_publisher\n",
    "Programmatically create/update Databricks SQL dashboards using databricks-sdk."
   ]
  },
  {
   "cell_type": "code",
   "execution_count": null,
   "id": "48d0b8c8",
   "metadata": {},
   "outputs": [],
   "source": [
    "# Install SDK if required: %pip install databricks-sdk\n",
    "import json\n",
    "from databricks.sdk import WorkspaceClient\n",
    "from databricks.sdk.service.sql import CreateDashboardRequest, CreateVisualizationRequest\n",
    "\n",
    "w = WorkspaceClient()\n",
    "with open('/dbfs/FileStore/report_metadata/report_definitions.json','r') as f:\n",
    "    reports = json.load(f)\n",
    "\n",
    "dashboard_map = {}\n",
    "for rpt in reports:\n",
    "    dash_name = rpt.get('dashboard','Reports')\n",
    "    if dash_name not in dashboard_map:\n",
    "        created = w.dashboards.create(CreateDashboardRequest(name=dash_name))\n",
    "        dashboard_map[dash_name] = created.id\n",
    "    q = w.queries.create(name=f\"{rpt['report_name']}_query\", query=f\"SELECT * FROM finance.kyc_ml.{rpt['report_name']}\")\n",
    "    viz = w.visualizations.create(CreateVisualizationRequest(query_id=q.id, type='table', name=rpt.get('widget_title', rpt['report_name'])))\n",
    "    w.dashboard_widgets.create(dashboard_id=dashboard_map[dash_name], visualization_id=viz.id)\n",
    "\n",
    "print('Dashboards created/updated:', dashboard_map)"
   ]
  }
 ],
 "metadata": {},
 "nbformat": 4,
 "nbformat_minor": 5
}
